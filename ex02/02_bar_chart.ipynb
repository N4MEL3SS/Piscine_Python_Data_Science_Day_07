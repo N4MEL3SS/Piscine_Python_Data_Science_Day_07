{
 "cells": [
  {
   "cell_type": "markdown",
   "source": [
    "# Exercise 02 : Bar"
   ],
   "metadata": {
    "collapsed": false
   }
  },
  {
   "cell_type": "markdown",
   "source": [
    "## Import"
   ],
   "metadata": {
    "collapsed": false
   }
  },
  {
   "cell_type": "code",
   "execution_count": 1,
   "outputs": [],
   "source": [
    "import pandas as pd\n",
    "import sqlite3"
   ],
   "metadata": {
    "collapsed": false
   }
  },
  {
   "cell_type": "markdown",
   "source": [
    "## Connect to database"
   ],
   "metadata": {
    "collapsed": false
   }
  },
  {
   "cell_type": "code",
   "execution_count": 2,
   "outputs": [],
   "source": [
    "db_connect = sqlite3.connect('../data/checking-logs.sqlite.sqlite')"
   ],
   "metadata": {
    "collapsed": false
   }
  },
  {
   "cell_type": "markdown",
   "source": [
    "## Get all commit datetimes from `checker` table"
   ],
   "metadata": {
    "collapsed": false
   }
  },
  {
   "cell_type": "code",
   "execution_count": 3,
   "outputs": [
    {
     "data": {
      "text/plain": "                    datetime        date  hour\n0 2020-04-17 05:19:02.744528  2020-04-17     5\n1 2020-04-17 05:22:35.249331  2020-04-17     5\n2 2020-04-17 05:22:45.549397  2020-04-17     5\n3 2020-04-17 05:34:14.691200  2020-04-17     5\n4 2020-04-17 05:34:24.422370  2020-04-17     5",
      "text/html": "<div>\n<style scoped>\n    .dataframe tbody tr th:only-of-type {\n        vertical-align: middle;\n    }\n\n    .dataframe tbody tr th {\n        vertical-align: top;\n    }\n\n    .dataframe thead th {\n        text-align: right;\n    }\n</style>\n<table border=\"1\" class=\"dataframe\">\n  <thead>\n    <tr style=\"text-align: right;\">\n      <th></th>\n      <th>datetime</th>\n      <th>date</th>\n      <th>hour</th>\n    </tr>\n  </thead>\n  <tbody>\n    <tr>\n      <th>0</th>\n      <td>2020-04-17 05:19:02.744528</td>\n      <td>2020-04-17</td>\n      <td>5</td>\n    </tr>\n    <tr>\n      <th>1</th>\n      <td>2020-04-17 05:22:35.249331</td>\n      <td>2020-04-17</td>\n      <td>5</td>\n    </tr>\n    <tr>\n      <th>2</th>\n      <td>2020-04-17 05:22:45.549397</td>\n      <td>2020-04-17</td>\n      <td>5</td>\n    </tr>\n    <tr>\n      <th>3</th>\n      <td>2020-04-17 05:34:14.691200</td>\n      <td>2020-04-17</td>\n      <td>5</td>\n    </tr>\n    <tr>\n      <th>4</th>\n      <td>2020-04-17 05:34:24.422370</td>\n      <td>2020-04-17</td>\n      <td>5</td>\n    </tr>\n  </tbody>\n</table>\n</div>"
     },
     "execution_count": 3,
     "metadata": {},
     "output_type": "execute_result"
    }
   ],
   "source": [
    "sql_query = \"\"\"\n",
    "SELECT\n",
    "    timestamp as datetime\n",
    "FROM\n",
    "    checker\n",
    "WHERE\n",
    "    uid LIKE 'user_%'\n",
    "\"\"\"\n",
    "\n",
    "commits_datetimes_df = pd.read_sql(sql=sql_query, con=db_connect, parse_dates=['datetime'])\n",
    "commits_datetimes_df['date'] = commits_datetimes_df.datetime.dt.date\n",
    "commits_datetimes_df['hour'] = commits_datetimes_df.datetime.dt.hour\n",
    "commits_datetimes_df.head()"
   ],
   "metadata": {
    "collapsed": false
   }
  },
  {
   "cell_type": "code",
   "execution_count": 4,
   "outputs": [
    {
     "name": "stdout",
     "output_type": "stream",
     "text": [
      "<class 'pandas.core.frame.DataFrame'>\n",
      "RangeIndex: 3207 entries, 0 to 3206\n",
      "Data columns (total 3 columns):\n",
      " #   Column    Non-Null Count  Dtype         \n",
      "---  ------    --------------  -----         \n",
      " 0   datetime  3207 non-null   datetime64[ns]\n",
      " 1   date      3207 non-null   object        \n",
      " 2   hour      3207 non-null   int64         \n",
      "dtypes: datetime64[ns](1), int64(1), object(1)\n",
      "memory usage: 75.3+ KB\n"
     ]
    }
   ],
   "source": [
    "commits_datetimes_df.info()"
   ],
   "metadata": {
    "collapsed": false
   }
  },
  {
   "cell_type": "code",
   "execution_count": 5,
   "outputs": [
    {
     "data": {
      "text/plain": "                    datetime        date  hour  daytime\n0 2020-04-17 05:19:02.744528  2020-04-17     5  morning\n1 2020-04-17 05:22:35.249331  2020-04-17     5  morning\n2 2020-04-17 05:22:45.549397  2020-04-17     5  morning\n3 2020-04-17 05:34:14.691200  2020-04-17     5  morning\n4 2020-04-17 05:34:24.422370  2020-04-17     5  morning",
      "text/html": "<div>\n<style scoped>\n    .dataframe tbody tr th:only-of-type {\n        vertical-align: middle;\n    }\n\n    .dataframe tbody tr th {\n        vertical-align: top;\n    }\n\n    .dataframe thead th {\n        text-align: right;\n    }\n</style>\n<table border=\"1\" class=\"dataframe\">\n  <thead>\n    <tr style=\"text-align: right;\">\n      <th></th>\n      <th>datetime</th>\n      <th>date</th>\n      <th>hour</th>\n      <th>daytime</th>\n    </tr>\n  </thead>\n  <tbody>\n    <tr>\n      <th>0</th>\n      <td>2020-04-17 05:19:02.744528</td>\n      <td>2020-04-17</td>\n      <td>5</td>\n      <td>morning</td>\n    </tr>\n    <tr>\n      <th>1</th>\n      <td>2020-04-17 05:22:35.249331</td>\n      <td>2020-04-17</td>\n      <td>5</td>\n      <td>morning</td>\n    </tr>\n    <tr>\n      <th>2</th>\n      <td>2020-04-17 05:22:45.549397</td>\n      <td>2020-04-17</td>\n      <td>5</td>\n      <td>morning</td>\n    </tr>\n    <tr>\n      <th>3</th>\n      <td>2020-04-17 05:34:14.691200</td>\n      <td>2020-04-17</td>\n      <td>5</td>\n      <td>morning</td>\n    </tr>\n    <tr>\n      <th>4</th>\n      <td>2020-04-17 05:34:24.422370</td>\n      <td>2020-04-17</td>\n      <td>5</td>\n      <td>morning</td>\n    </tr>\n  </tbody>\n</table>\n</div>"
     },
     "execution_count": 5,
     "metadata": {},
     "output_type": "execute_result"
    }
   ],
   "source": [
    "commits_datetimes_df['daytime'] = pd.cut(commits_datetimes_df.hour, bins=[0, 4, 10, 17, 24], labels=['night', 'morning', 'afternoon', 'evening'], include_lowest=True)\n",
    "commits_datetimes_df.head()"
   ],
   "metadata": {
    "collapsed": false
   }
  },
  {
   "cell_type": "code",
   "execution_count": 6,
   "outputs": [
    {
     "data": {
      "text/plain": "daytime     night  morning  afternoon  evening\ndate                                          \n2020-04-17    0.0     13.0       10.0      0.0\n2020-04-18    0.0      1.0       40.0     28.0\n2020-04-19    2.0     11.0        9.0     11.0\n2020-04-20    0.0      0.0       15.0     10.0\n2020-04-21    0.0      0.0        9.0     16.0\n2020-04-22    0.0      0.0        4.0     24.0\n2020-04-23    2.0      6.0       15.0     20.0\n2020-04-24    0.0      2.0       12.0      2.0\n2020-04-25    1.0     21.0       48.0     34.0\n2020-04-26    2.0     18.0       92.0    149.0\n2020-04-27    2.0      2.0        0.0      2.0\n2020-04-28    0.0      0.0        5.0      0.0\n2020-04-29    0.0      0.0        0.0     17.0\n2020-04-30    0.0     12.0        5.0     36.0\n2020-05-01    0.0      1.0        9.0     50.0\n2020-05-02    0.0      7.0      201.0     34.0\n2020-05-03    0.0     34.0       76.0     70.0\n2020-05-04    0.0     11.0       26.0      0.0\n2020-05-05    0.0     57.0       77.0      5.0\n2020-05-06    0.0      2.0        0.0      0.0\n2020-05-07    0.0      8.0       23.0     21.0\n2020-05-08    0.0      0.0       45.0     42.0\n2020-05-09    0.0      0.0       12.0     74.0\n2020-05-10    8.0      2.0      114.0     19.0\n2020-05-11    0.0      3.0       56.0    127.0\n2020-05-12    0.0     52.0      114.0    157.0\n2020-05-13    0.0      4.0       73.0    134.0\n2020-05-14    4.0     44.0      307.0    220.0\n2020-05-15    0.0     10.0        0.0      0.0\n2020-05-16    0.0      0.0        3.0      1.0\n2020-05-17    0.0      2.0       13.0     33.0\n2020-05-18    0.0      0.0        3.0      0.0\n2020-05-19    0.0     13.0       18.0      3.0\n2020-05-20    0.0      7.0       11.0     10.0\n2020-05-21    0.0      1.0       28.0     20.0",
      "text/html": "<div>\n<style scoped>\n    .dataframe tbody tr th:only-of-type {\n        vertical-align: middle;\n    }\n\n    .dataframe tbody tr th {\n        vertical-align: top;\n    }\n\n    .dataframe thead th {\n        text-align: right;\n    }\n</style>\n<table border=\"1\" class=\"dataframe\">\n  <thead>\n    <tr style=\"text-align: right;\">\n      <th>daytime</th>\n      <th>night</th>\n      <th>morning</th>\n      <th>afternoon</th>\n      <th>evening</th>\n    </tr>\n    <tr>\n      <th>date</th>\n      <th></th>\n      <th></th>\n      <th></th>\n      <th></th>\n    </tr>\n  </thead>\n  <tbody>\n    <tr>\n      <th>2020-04-17</th>\n      <td>0.0</td>\n      <td>13.0</td>\n      <td>10.0</td>\n      <td>0.0</td>\n    </tr>\n    <tr>\n      <th>2020-04-18</th>\n      <td>0.0</td>\n      <td>1.0</td>\n      <td>40.0</td>\n      <td>28.0</td>\n    </tr>\n    <tr>\n      <th>2020-04-19</th>\n      <td>2.0</td>\n      <td>11.0</td>\n      <td>9.0</td>\n      <td>11.0</td>\n    </tr>\n    <tr>\n      <th>2020-04-20</th>\n      <td>0.0</td>\n      <td>0.0</td>\n      <td>15.0</td>\n      <td>10.0</td>\n    </tr>\n    <tr>\n      <th>2020-04-21</th>\n      <td>0.0</td>\n      <td>0.0</td>\n      <td>9.0</td>\n      <td>16.0</td>\n    </tr>\n    <tr>\n      <th>2020-04-22</th>\n      <td>0.0</td>\n      <td>0.0</td>\n      <td>4.0</td>\n      <td>24.0</td>\n    </tr>\n    <tr>\n      <th>2020-04-23</th>\n      <td>2.0</td>\n      <td>6.0</td>\n      <td>15.0</td>\n      <td>20.0</td>\n    </tr>\n    <tr>\n      <th>2020-04-24</th>\n      <td>0.0</td>\n      <td>2.0</td>\n      <td>12.0</td>\n      <td>2.0</td>\n    </tr>\n    <tr>\n      <th>2020-04-25</th>\n      <td>1.0</td>\n      <td>21.0</td>\n      <td>48.0</td>\n      <td>34.0</td>\n    </tr>\n    <tr>\n      <th>2020-04-26</th>\n      <td>2.0</td>\n      <td>18.0</td>\n      <td>92.0</td>\n      <td>149.0</td>\n    </tr>\n    <tr>\n      <th>2020-04-27</th>\n      <td>2.0</td>\n      <td>2.0</td>\n      <td>0.0</td>\n      <td>2.0</td>\n    </tr>\n    <tr>\n      <th>2020-04-28</th>\n      <td>0.0</td>\n      <td>0.0</td>\n      <td>5.0</td>\n      <td>0.0</td>\n    </tr>\n    <tr>\n      <th>2020-04-29</th>\n      <td>0.0</td>\n      <td>0.0</td>\n      <td>0.0</td>\n      <td>17.0</td>\n    </tr>\n    <tr>\n      <th>2020-04-30</th>\n      <td>0.0</td>\n      <td>12.0</td>\n      <td>5.0</td>\n      <td>36.0</td>\n    </tr>\n    <tr>\n      <th>2020-05-01</th>\n      <td>0.0</td>\n      <td>1.0</td>\n      <td>9.0</td>\n      <td>50.0</td>\n    </tr>\n    <tr>\n      <th>2020-05-02</th>\n      <td>0.0</td>\n      <td>7.0</td>\n      <td>201.0</td>\n      <td>34.0</td>\n    </tr>\n    <tr>\n      <th>2020-05-03</th>\n      <td>0.0</td>\n      <td>34.0</td>\n      <td>76.0</td>\n      <td>70.0</td>\n    </tr>\n    <tr>\n      <th>2020-05-04</th>\n      <td>0.0</td>\n      <td>11.0</td>\n      <td>26.0</td>\n      <td>0.0</td>\n    </tr>\n    <tr>\n      <th>2020-05-05</th>\n      <td>0.0</td>\n      <td>57.0</td>\n      <td>77.0</td>\n      <td>5.0</td>\n    </tr>\n    <tr>\n      <th>2020-05-06</th>\n      <td>0.0</td>\n      <td>2.0</td>\n      <td>0.0</td>\n      <td>0.0</td>\n    </tr>\n    <tr>\n      <th>2020-05-07</th>\n      <td>0.0</td>\n      <td>8.0</td>\n      <td>23.0</td>\n      <td>21.0</td>\n    </tr>\n    <tr>\n      <th>2020-05-08</th>\n      <td>0.0</td>\n      <td>0.0</td>\n      <td>45.0</td>\n      <td>42.0</td>\n    </tr>\n    <tr>\n      <th>2020-05-09</th>\n      <td>0.0</td>\n      <td>0.0</td>\n      <td>12.0</td>\n      <td>74.0</td>\n    </tr>\n    <tr>\n      <th>2020-05-10</th>\n      <td>8.0</td>\n      <td>2.0</td>\n      <td>114.0</td>\n      <td>19.0</td>\n    </tr>\n    <tr>\n      <th>2020-05-11</th>\n      <td>0.0</td>\n      <td>3.0</td>\n      <td>56.0</td>\n      <td>127.0</td>\n    </tr>\n    <tr>\n      <th>2020-05-12</th>\n      <td>0.0</td>\n      <td>52.0</td>\n      <td>114.0</td>\n      <td>157.0</td>\n    </tr>\n    <tr>\n      <th>2020-05-13</th>\n      <td>0.0</td>\n      <td>4.0</td>\n      <td>73.0</td>\n      <td>134.0</td>\n    </tr>\n    <tr>\n      <th>2020-05-14</th>\n      <td>4.0</td>\n      <td>44.0</td>\n      <td>307.0</td>\n      <td>220.0</td>\n    </tr>\n    <tr>\n      <th>2020-05-15</th>\n      <td>0.0</td>\n      <td>10.0</td>\n      <td>0.0</td>\n      <td>0.0</td>\n    </tr>\n    <tr>\n      <th>2020-05-16</th>\n      <td>0.0</td>\n      <td>0.0</td>\n      <td>3.0</td>\n      <td>1.0</td>\n    </tr>\n    <tr>\n      <th>2020-05-17</th>\n      <td>0.0</td>\n      <td>2.0</td>\n      <td>13.0</td>\n      <td>33.0</td>\n    </tr>\n    <tr>\n      <th>2020-05-18</th>\n      <td>0.0</td>\n      <td>0.0</td>\n      <td>3.0</td>\n      <td>0.0</td>\n    </tr>\n    <tr>\n      <th>2020-05-19</th>\n      <td>0.0</td>\n      <td>13.0</td>\n      <td>18.0</td>\n      <td>3.0</td>\n    </tr>\n    <tr>\n      <th>2020-05-20</th>\n      <td>0.0</td>\n      <td>7.0</td>\n      <td>11.0</td>\n      <td>10.0</td>\n    </tr>\n    <tr>\n      <th>2020-05-21</th>\n      <td>0.0</td>\n      <td>1.0</td>\n      <td>28.0</td>\n      <td>20.0</td>\n    </tr>\n  </tbody>\n</table>\n</div>"
     },
     "execution_count": 6,
     "metadata": {},
     "output_type": "execute_result"
    }
   ],
   "source": [
    "commits_group = commits_datetimes_df.groupby('daytime').date.value_counts().unstack(0)\n",
    "commits_group.fillna(0, inplace=True)\n",
    "commits_group"
   ],
   "metadata": {
    "collapsed": false
   }
  },
  {
   "cell_type": "markdown",
   "source": [
    "## Create a graph"
   ],
   "metadata": {
    "collapsed": false
   }
  },
  {
   "cell_type": "code",
   "execution_count": 7,
   "outputs": [
    {
     "data": {
      "text/plain": "<Figure size 1500x800 with 1 Axes>",
      "image/png": "[encoded data removed]"
     },
     "metadata": {},
     "output_type": "display_data"
    }
   ],
   "source": [
    "ax = commits_group.plot(kind='bar', stacked=True, figsize=(15, 8), title='Commits per day', fontsize=8, rot=90,)\n",
    "ax.set_facecolor('#dbdbdb')\n",
    "ax.grid(axis='y')"
   ],
   "metadata": {
    "collapsed": false
   }
  },
  {
   "cell_type": "code",
   "execution_count": 8,
   "outputs": [
    {
     "data": {
      "text/plain": "daytime\nnight          21.0\nmorning       344.0\nafternoon    1473.0\nevening      1369.0\ndtype: float64"
     },
     "execution_count": 8,
     "metadata": {},
     "output_type": "execute_result"
    }
   ],
   "source": [
    "commits_group.sum()"
   ],
   "metadata": {
    "collapsed": false
   }
  },
  {
   "cell_type": "markdown",
   "source": [
    "## “When do our users usually commit the labs: in the night, morning, afternoon, or evening?"
   ],
   "metadata": {
    "collapsed": false
   }
  },
  {
   "cell_type": "markdown",
   "source": [
    "### Afternoon and Evening"
   ],
   "metadata": {
    "collapsed": false
   }
  },
  {
   "cell_type": "code",
   "execution_count": 9,
   "outputs": [
    {
     "data": {
      "text/plain": "datetime.date(2020, 5, 12)"
     },
     "execution_count": 9,
     "metadata": {},
     "output_type": "execute_result"
    }
   ],
   "source": [
    "commits_group.loc[commits_group['evening'] > commits_group['afternoon']].sum(axis=1).idxmax()"
   ],
   "metadata": {
    "collapsed": false
   }
  },
  {
   "cell_type": "markdown",
   "source": [
    "## Which day has:\n",
    " * The most number of commits\n",
    " * And at the same time, the number of commits in the evening is higher than in the afternoon?"
   ],
   "metadata": {
    "collapsed": false
   }
  },
  {
   "cell_type": "markdown",
   "source": [
    "### The anwser is: 2020-05-12"
   ],
   "metadata": {
    "collapsed": false
   }
  },
  {
   "cell_type": "markdown",
   "source": [
    "## Close the connection to the database"
   ],
   "metadata": {
    "collapsed": false
   }
  },
  {
   "cell_type": "code",
   "execution_count": 10,
   "outputs": [],
   "source": [
    "db_connect.close()"
   ],
   "metadata": {
    "collapsed": false
   }
  }
 ],
 "metadata": {
  "kernelspec": {
   "display_name": "Python 3",
   "language": "python",
   "name": "python3"
  },
  "language_info": {
   "codemirror_mode": {
    "name": "ipython",
    "version": 2
   },
   "file_extension": ".py",
   "mimetype": "text/x-python",
   "name": "python",
   "nbconvert_exporter": "python",
   "pygments_lexer": "ipython2",
   "version": "2.7.6"
  }
 },
 "nbformat": 4,
 "nbformat_minor": 0
}
