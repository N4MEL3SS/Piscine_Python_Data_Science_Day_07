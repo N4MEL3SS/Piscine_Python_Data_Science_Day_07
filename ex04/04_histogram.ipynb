{
 "cells": [
  {
   "cell_type": "markdown",
   "source": [
    "# Exercise 04 : Histogram"
   ],
   "metadata": {
    "collapsed": false
   }
  },
  {
   "cell_type": "markdown",
   "source": [
    "## Import"
   ],
   "metadata": {
    "collapsed": false
   }
  },
  {
   "cell_type": "code",
   "execution_count": 1,
   "outputs": [],
   "source": [
    "import pandas as pd\n",
    "import sqlite3\n",
    "import matplotlib.pyplot as plt"
   ],
   "metadata": {
    "collapsed": false
   }
  },
  {
   "cell_type": "markdown",
   "source": [
    "## Connect to database"
   ],
   "metadata": {
    "collapsed": false
   }
  },
  {
   "cell_type": "code",
   "execution_count": 2,
   "outputs": [],
   "source": [
    "db_connect = sqlite3.connect('../data/checking-logs.sqlite.sqlite')"
   ],
   "metadata": {
    "collapsed": false
   }
  },
  {
   "cell_type": "markdown",
   "source": [
    "## Get all commit datetimes from `checker` table"
   ],
   "metadata": {
    "collapsed": false
   }
  },
  {
   "cell_type": "code",
   "execution_count": 3,
   "outputs": [
    {
     "data": {
      "text/plain": "                    datetime        date  hour\n0 2020-04-17 05:19:02.744528  2020-04-17     5\n1 2020-04-17 05:22:35.249331  2020-04-17     5\n2 2020-04-17 05:22:45.549397  2020-04-17     5\n3 2020-04-17 05:34:14.691200  2020-04-17     5\n4 2020-04-17 05:34:24.422370  2020-04-17     5",
      "text/html": "<div>\n<style scoped>\n    .dataframe tbody tr th:only-of-type {\n        vertical-align: middle;\n    }\n\n    .dataframe tbody tr th {\n        vertical-align: top;\n    }\n\n    .dataframe thead th {\n        text-align: right;\n    }\n</style>\n<table border=\"1\" class=\"dataframe\">\n  <thead>\n    <tr style=\"text-align: right;\">\n      <th></th>\n      <th>datetime</th>\n      <th>date</th>\n      <th>hour</th>\n    </tr>\n  </thead>\n  <tbody>\n    <tr>\n      <th>0</th>\n      <td>2020-04-17 05:19:02.744528</td>\n      <td>2020-04-17</td>\n      <td>5</td>\n    </tr>\n    <tr>\n      <th>1</th>\n      <td>2020-04-17 05:22:35.249331</td>\n      <td>2020-04-17</td>\n      <td>5</td>\n    </tr>\n    <tr>\n      <th>2</th>\n      <td>2020-04-17 05:22:45.549397</td>\n      <td>2020-04-17</td>\n      <td>5</td>\n    </tr>\n    <tr>\n      <th>3</th>\n      <td>2020-04-17 05:34:14.691200</td>\n      <td>2020-04-17</td>\n      <td>5</td>\n    </tr>\n    <tr>\n      <th>4</th>\n      <td>2020-04-17 05:34:24.422370</td>\n      <td>2020-04-17</td>\n      <td>5</td>\n    </tr>\n  </tbody>\n</table>\n</div>"
     },
     "execution_count": 3,
     "metadata": {},
     "output_type": "execute_result"
    }
   ],
   "source": [
    "sql_query = \"\"\"\n",
    "SELECT\n",
    "    timestamp as datetime\n",
    "FROM\n",
    "    checker\n",
    "WHERE\n",
    "    uid LIKE 'user_%'\n",
    "\"\"\"\n",
    "\n",
    "commits_datetimes_df = pd.read_sql(sql=sql_query, con=db_connect, parse_dates=['datetime'])\n",
    "commits_datetimes_df['date'] = commits_datetimes_df.datetime.dt.date\n",
    "commits_datetimes_df['hour'] = commits_datetimes_df.datetime.dt.hour\n",
    "commits_datetimes_df.head()"
   ],
   "metadata": {
    "collapsed": false
   }
  },
  {
   "cell_type": "code",
   "execution_count": 4,
   "outputs": [
    {
     "name": "stdout",
     "output_type": "stream",
     "text": [
      "<class 'pandas.core.frame.DataFrame'>\n",
      "RangeIndex: 3207 entries, 0 to 3206\n",
      "Data columns (total 3 columns):\n",
      " #   Column    Non-Null Count  Dtype         \n",
      "---  ------    --------------  -----         \n",
      " 0   datetime  3207 non-null   datetime64[ns]\n",
      " 1   date      3207 non-null   object        \n",
      " 2   hour      3207 non-null   int64         \n",
      "dtypes: datetime64[ns](1), int64(1), object(1)\n",
      "memory usage: 75.3+ KB\n"
     ]
    }
   ],
   "source": [
    "commits_datetimes_df.info()"
   ],
   "metadata": {
    "collapsed": false
   }
  },
  {
   "cell_type": "markdown",
   "source": [
    "## Get day type (weekend or working day)"
   ],
   "metadata": {
    "collapsed": false
   }
  },
  {
   "cell_type": "code",
   "execution_count": 5,
   "outputs": [
    {
     "data": {
      "text/plain": "                    datetime        date  hour      daytype\n0 2020-04-17 05:19:02.744528  2020-04-17     5  working_day\n1 2020-04-17 05:22:35.249331  2020-04-17     5  working_day\n2 2020-04-17 05:22:45.549397  2020-04-17     5  working_day\n3 2020-04-17 05:34:14.691200  2020-04-17     5  working_day\n4 2020-04-17 05:34:24.422370  2020-04-17     5  working_day",
      "text/html": "<div>\n<style scoped>\n    .dataframe tbody tr th:only-of-type {\n        vertical-align: middle;\n    }\n\n    .dataframe tbody tr th {\n        vertical-align: top;\n    }\n\n    .dataframe thead th {\n        text-align: right;\n    }\n</style>\n<table border=\"1\" class=\"dataframe\">\n  <thead>\n    <tr style=\"text-align: right;\">\n      <th></th>\n      <th>datetime</th>\n      <th>date</th>\n      <th>hour</th>\n      <th>daytype</th>\n    </tr>\n  </thead>\n  <tbody>\n    <tr>\n      <th>0</th>\n      <td>2020-04-17 05:19:02.744528</td>\n      <td>2020-04-17</td>\n      <td>5</td>\n      <td>working_day</td>\n    </tr>\n    <tr>\n      <th>1</th>\n      <td>2020-04-17 05:22:35.249331</td>\n      <td>2020-04-17</td>\n      <td>5</td>\n      <td>working_day</td>\n    </tr>\n    <tr>\n      <th>2</th>\n      <td>2020-04-17 05:22:45.549397</td>\n      <td>2020-04-17</td>\n      <td>5</td>\n      <td>working_day</td>\n    </tr>\n    <tr>\n      <th>3</th>\n      <td>2020-04-17 05:34:14.691200</td>\n      <td>2020-04-17</td>\n      <td>5</td>\n      <td>working_day</td>\n    </tr>\n    <tr>\n      <th>4</th>\n      <td>2020-04-17 05:34:24.422370</td>\n      <td>2020-04-17</td>\n      <td>5</td>\n      <td>working_day</td>\n    </tr>\n  </tbody>\n</table>\n</div>"
     },
     "execution_count": 5,
     "metadata": {},
     "output_type": "execute_result"
    }
   ],
   "source": [
    "commits_datetimes_df['date'] = commits_datetimes_df.datetime.dt.date\n",
    "commits_datetimes_df['hour'] = commits_datetimes_df.datetime.dt.hour\n",
    "commits_datetimes_df['daytype'] = commits_datetimes_df['datetime'].dt.dayofweek.apply(lambda x: 'weekend' if x > 4 else 'working_day')\n",
    "commits_datetimes_df.head()"
   ],
   "metadata": {
    "collapsed": false
   }
  },
  {
   "cell_type": "code",
   "execution_count": 6,
   "outputs": [
    {
     "name": "stdout",
     "output_type": "stream",
     "text": [
      "<class 'pandas.core.frame.DataFrame'>\n",
      "RangeIndex: 3207 entries, 0 to 3206\n",
      "Data columns (total 4 columns):\n",
      " #   Column    Non-Null Count  Dtype         \n",
      "---  ------    --------------  -----         \n",
      " 0   datetime  3207 non-null   datetime64[ns]\n",
      " 1   date      3207 non-null   object        \n",
      " 2   hour      3207 non-null   int64         \n",
      " 3   daytype   3207 non-null   object        \n",
      "dtypes: datetime64[ns](1), int64(1), object(2)\n",
      "memory usage: 100.3+ KB\n"
     ]
    }
   ],
   "source": [
    "commits_datetimes_df.info()"
   ],
   "metadata": {
    "collapsed": false
   }
  },
  {
   "cell_type": "markdown",
   "source": [
    "## Create a graph"
   ],
   "metadata": {
    "collapsed": false
   }
  },
  {
   "cell_type": "code",
   "execution_count": 7,
   "outputs": [],
   "source": [
    "data = [commits_datetimes_df[commits_datetimes_df['daytype'] == 'working_day']['hour'].tolist(),\n",
    "        commits_datetimes_df[commits_datetimes_df['daytype'] == 'weekend']['hour'].tolist()]"
   ],
   "metadata": {
    "collapsed": false
   }
  },
  {
   "cell_type": "code",
   "execution_count": 8,
   "outputs": [
    {
     "data": {
      "text/plain": "[]"
     },
     "execution_count": 8,
     "metadata": {},
     "output_type": "execute_result"
    },
    {
     "data": {
      "text/plain": "<Figure size 1500x800 with 1 Axes>",
      "image/png": "[encoded data removed]"
     },
     "metadata": {},
     "output_type": "display_data"
    }
   ],
   "source": [
    "plt.figure(figsize=(15,8))\n",
    "plt.hist(x=data[0], bins=range(0, 25), range=[0, 24], color='green')\n",
    "plt.hist(x=data[1], bins=range(0, 25), range=[0, 24], alpha=0.7, color='blue')\n",
    "\n",
    "plt.legend(['working_day', 'weekend'])\n",
    "plt.plot()"
   ],
   "metadata": {
    "collapsed": false
   }
  },
  {
   "cell_type": "markdown",
   "source": [
    "## Are there hours when the total number of commits was higher on weekends than on working days?"
   ],
   "metadata": {
    "collapsed": false
   }
  },
  {
   "cell_type": "code",
   "execution_count": 9,
   "outputs": [
    {
     "data": {
      "text/plain": "daytype  weekend  working_day  delta\nhour                                \n11         118.0         88.0   30.0\n13         108.0         73.0   35.0\n22          59.0         45.0   14.0\n23          32.0         15.0   17.0",
      "text/html": "<div>\n<style scoped>\n    .dataframe tbody tr th:only-of-type {\n        vertical-align: middle;\n    }\n\n    .dataframe tbody tr th {\n        vertical-align: top;\n    }\n\n    .dataframe thead th {\n        text-align: right;\n    }\n</style>\n<table border=\"1\" class=\"dataframe\">\n  <thead>\n    <tr style=\"text-align: right;\">\n      <th>daytype</th>\n      <th>weekend</th>\n      <th>working_day</th>\n      <th>delta</th>\n    </tr>\n    <tr>\n      <th>hour</th>\n      <th></th>\n      <th></th>\n      <th></th>\n    </tr>\n  </thead>\n  <tbody>\n    <tr>\n      <th>11</th>\n      <td>118.0</td>\n      <td>88.0</td>\n      <td>30.0</td>\n    </tr>\n    <tr>\n      <th>13</th>\n      <td>108.0</td>\n      <td>73.0</td>\n      <td>35.0</td>\n    </tr>\n    <tr>\n      <th>22</th>\n      <td>59.0</td>\n      <td>45.0</td>\n      <td>14.0</td>\n    </tr>\n    <tr>\n      <th>23</th>\n      <td>32.0</td>\n      <td>15.0</td>\n      <td>17.0</td>\n    </tr>\n  </tbody>\n</table>\n</div>"
     },
     "execution_count": 9,
     "metadata": {},
     "output_type": "execute_result"
    }
   ],
   "source": [
    "commits_groupped = commits_datetimes_df.groupby(['daytype', 'hour']).count()['datetime'].reset_index()\n",
    "pivot_table = pd.pivot_table(commits_groupped, values='datetime', index='hour', columns='daytype')\n",
    "pivot_table.dropna(inplace=True)\n",
    "pivot_table['delta'] = pivot_table['weekend'] - pivot_table['working_day']\n",
    "pivot_table[pivot_table['delta'] > 0]"
   ],
   "metadata": {
    "collapsed": false
   }
  },
  {
   "cell_type": "markdown",
   "source": [
    "### Answer: 11, 13, 22, 23"
   ],
   "metadata": {
    "collapsed": false
   }
  }
 ],
 "metadata": {
  "kernelspec": {
   "display_name": "Python 3",
   "language": "python",
   "name": "python3"
  },
  "language_info": {
   "codemirror_mode": {
    "name": "ipython",
    "version": 2
   },
   "file_extension": ".py",
   "mimetype": "text/x-python",
   "name": "python",
   "nbconvert_exporter": "python",
   "pygments_lexer": "ipython2",
   "version": "2.7.6"
  }
 },
 "nbformat": 4,
 "nbformat_minor": 0
}
